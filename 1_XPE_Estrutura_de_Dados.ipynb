{
  "nbformat": 4,
  "nbformat_minor": 0,
  "metadata": {
    "colab": {
      "provenance": [],
      "collapsed_sections": [],
      "authorship_tag": "ABX9TyPdFS4anr5rwPP/3OwlcSla",
      "include_colab_link": true
    },
    "kernelspec": {
      "name": "python3",
      "display_name": "Python 3"
    },
    "language_info": {
      "name": "python"
    }
  },
  "cells": [
    {
      "cell_type": "markdown",
      "metadata": {
        "id": "view-in-github",
        "colab_type": "text"
      },
      "source": [
        "<a href=\"https://colab.research.google.com/github/lionelsu/XPE_Python/blob/main/1_XPE_Estrutura_de_Dados.ipynb\" target=\"_parent\"><img src=\"https://colab.research.google.com/assets/colab-badge.svg\" alt=\"Open In Colab\"/></a>"
      ]
    },
    {
      "cell_type": "code",
      "execution_count": 6,
      "metadata": {
        "id": "1U3JYD6MeQFT",
        "colab": {
          "base_uri": "https://localhost:8080/"
        },
        "outputId": "c2a2ba59-d3e5-499c-feaf-86701884afd1"
      },
      "outputs": [
        {
          "output_type": "stream",
          "name": "stdout",
          "text": [
            "{'Maria': 5, 'Julieta': 7, 'Fernando': 8, 'Cristiano': 9, 'Cláudio': 7}\n",
            "<class 'list'> <class 'dict'>\n",
            "8 5\n"
          ]
        }
      ],
      "source": [
        "#01. Execute e analise a saída do seguinte código no Google Colab1.\n",
        "#https://colab.research.google.com/\n",
        "\n",
        "# relação dos nomes\n",
        "nomes = ['Maria', 'Julieta', 'Fernando', 'Cristiano', 'Julieta', 'Maria', 'Fernando', 'Cláudio']\n",
        "# estrutura que irá armazenar o número de letras de cada nome\n",
        "qtd_letras = {}\n",
        "# calcula o tamanho de cada nome (em número de letras) e armazena o valor na estrutura\n",
        "for nome in nomes:\n",
        "    qtd_letras[nome] = len(nome)\n",
        "print(qtd_letras)\n",
        "print(type(nomes), type(qtd_letras))\n",
        "print(len(nomes), len(qtd_letras))"
      ]
    },
    {
      "cell_type": "code",
      "source": [
        "#02. Reescreva o código da Atividade 01 utilizando o conceito de compreensão de\n",
        "#dicionários (dict comprehension).\n",
        "nomes = ['Maria', 'Julieta', 'Fernando', 'Cristiano', 'Julieta', 'Maria', 'Fernando', 'Cláudio']\n",
        "qtd_letras = {nome: len(nome) for nome in nomes}\n",
        "print(qtd_letras)"
      ],
      "metadata": {
        "colab": {
          "base_uri": "https://localhost:8080/"
        },
        "id": "RZrtcybA9PEv",
        "outputId": "6b36fd36-7a37-4229-ad25-3af8cb37249c"
      },
      "execution_count": null,
      "outputs": [
        {
          "output_type": "stream",
          "name": "stdout",
          "text": [
            "{'Maria': 5, 'Julieta': 7, 'Fernando': 8, 'Cristiano': 9, 'Cláudio': 7}\n"
          ]
        }
      ]
    },
    {
      "cell_type": "code",
      "source": [
        "#03. Crie uma função area(r, pi), que calcule a área de um círculo\n",
        "def area(r, pi = 3.14):\n",
        "    a = pi * (r**2)\n",
        "    return a\n",
        "area(8, 3.141592)\n"
      ],
      "metadata": {
        "colab": {
          "base_uri": "https://localhost:8080/"
        },
        "id": "JP3N3LirO-I9",
        "outputId": "8d825ec1-7960-4e0a-e0fd-1720842e2fad"
      },
      "execution_count": null,
      "outputs": [
        {
          "output_type": "execute_result",
          "data": {
            "text/plain": [
              "201.061888"
            ]
          },
          "metadata": {},
          "execution_count": 8
        }
      ]
    },
    {
      "cell_type": "code",
      "source": [
        "#04. Reescreva a função area da atividade 4, utilizando o conceito de funções anônimas \n",
        "#(funções lambdas).\n",
        "area_circ = lambda r, pi = 3.14: pi * (r ** 2)\n",
        "area_circ(8, 3.141592)"
      ],
      "metadata": {
        "colab": {
          "base_uri": "https://localhost:8080/"
        },
        "id": "jhxFIP_DVXGc",
        "outputId": "3fd2ecac-7a3b-464e-96ba-7b995fe4c73c"
      },
      "execution_count": null,
      "outputs": [
        {
          "output_type": "execute_result",
          "data": {
            "text/plain": [
              "201.061888"
            ]
          },
          "metadata": {},
          "execution_count": 68
        }
      ]
    },
    {
      "cell_type": "code",
      "source": [
        "#05. Crie um módulo em Python, chamado processalista (arquivo processalista.py), com as\n",
        "#seguintes funções, que deverão receber como argumento uma lista (tipo list) de números inteiros.\n",
        "import processalista\n",
        "\n",
        "#Um modulo abençoado para dar reload nas modificações do modulo\n",
        "from importlib import reload\n",
        "\n",
        "l1 = [5, 3, 10, 1000, 991, 1100]\n",
        "\n",
        "processalista.maior_impar(l1)\n",
        "processalista.menor_impar(l1)\n",
        "processalista.maior_menor(l1)"
      ],
      "metadata": {
        "colab": {
          "base_uri": "https://localhost:8080/"
        },
        "id": "dyweg25hkwop",
        "outputId": "711f5fcd-ddc8-4bfc-f674-157b125c9ea8"
      },
      "execution_count": 4,
      "outputs": [
        {
          "output_type": "stream",
          "name": "stdout",
          "text": [
            "O maior impar da lista é o: 991\n",
            "O menor impar da lista é o: 3\n",
            "O maior impar é 991 e o menor é 3\n"
          ]
        }
      ]
    },
    {
      "cell_type": "code",
      "source": [
        "#06. Considere a seguinte agenda de disponibilidade de atendimento de uma clínica com\n",
        "#vários médicos, cada um de uma especialidade distinta. Esta clínica possuí apenas três consultórios,\n",
        "#e, por isso, no máximo três médicos podem atender por dia.\n",
        "\n",
        "#Para tanto, irá desenvolver duas funções que receberão\n",
        "#a relação de disponibilidade de cada médico e que retornarão os dias disponíveis:\n",
        "\n",
        "# relação de dias da semana que cada médico atende\n",
        "cardiologista = {'terca', 'quarta'}\n",
        "ortopedista = {'terca', 'quinta'}\n",
        "dermatologista = {'segunda', 'quarta', 'sexta'}\n",
        "neurologista = {'terca', 'quinta', 'sexta'}\n",
        "psiquiatra = {'segunda', 'quarta', 'sexta'}\n",
        "\n",
        "\n",
        "dermatologista & neurologista & psiquiatra\n",
        "\n",
        "# Calcula quais os dias possíveis para dois médicos\n",
        "def disp_dois_especialistas(medico01, medico02):\n",
        "    return print(medico01 & medico02)\n",
        "\n",
        "disp_dois_especialistas(ortopedista, neurologista)\n",
        "\n",
        "# Calcula quais os dias possíveis para três médicos\n",
        "def disp_tres_especialistas(medico01, medico02, medico03):\n",
        "    return print(medico01 & medico02 & medico03)\n",
        "\n",
        "disp_tres_especialistas(dermatologista, neurologista, psiquiatra)\n"
      ],
      "metadata": {
        "colab": {
          "base_uri": "https://localhost:8080/"
        },
        "id": "Pp3axp0gFJnH",
        "outputId": "da1a7a4f-e90e-4c2e-e2f4-649b6ae312bd"
      },
      "execution_count": 36,
      "outputs": [
        {
          "output_type": "stream",
          "name": "stdout",
          "text": [
            "{'terca', 'quinta'}\n",
            "{'sexta'}\n"
          ]
        }
      ]
    },
    {
      "cell_type": "code",
      "source": [
        "len({1, 3, 1, 4, 3, 2, 2, 0, 4})"
      ],
      "metadata": {
        "colab": {
          "base_uri": "https://localhost:8080/"
        },
        "id": "SPaHjcSxYlKR",
        "outputId": "d00bec31-3c67-405d-9690-f943828d0106"
      },
      "execution_count": 42,
      "outputs": [
        {
          "output_type": "execute_result",
          "data": {
            "text/plain": [
              "5"
            ]
          },
          "metadata": {},
          "execution_count": 42
        }
      ]
    },
    {
      "cell_type": "code",
      "source": [
        "[n/2 for n in range(0, 10) if n > 3]"
      ],
      "metadata": {
        "colab": {
          "base_uri": "https://localhost:8080/"
        },
        "id": "CT4aFKAAZUeQ",
        "outputId": "324a3d7e-53dc-4e99-8b1d-2a4657d2f947"
      },
      "execution_count": 43,
      "outputs": [
        {
          "output_type": "execute_result",
          "data": {
            "text/plain": [
              "[2.0, 2.5, 3.0, 3.5, 4.0, 4.5]"
            ]
          },
          "metadata": {},
          "execution_count": 43
        }
      ]
    },
    {
      "cell_type": "code",
      "source": [
        "{nome: len(nome)} for nome in nomes if nome == len(nome)"
      ],
      "metadata": {
        "colab": {
          "base_uri": "https://localhost:8080/",
          "height": 130
        },
        "id": "eyTsr6v8eFz9",
        "outputId": "1c205486-fe44-428f-a3c4-e438229dd6bb"
      },
      "execution_count": 52,
      "outputs": [
        {
          "output_type": "error",
          "ename": "SyntaxError",
          "evalue": "ignored",
          "traceback": [
            "\u001b[0;36m  File \u001b[0;32m\"<ipython-input-52-5a25fb5f634e>\"\u001b[0;36m, line \u001b[0;32m1\u001b[0m\n\u001b[0;31m    {nome: len(nome)} for nome in nomes if nome == len(nome)\u001b[0m\n\u001b[0m                        ^\u001b[0m\n\u001b[0;31mSyntaxError\u001b[0m\u001b[0;31m:\u001b[0m invalid syntax\n"
          ]
        }
      ]
    },
    {
      "cell_type": "code",
      "source": [
        "(3, 4, 5, 7)"
      ],
      "metadata": {
        "colab": {
          "base_uri": "https://localhost:8080/"
        },
        "id": "LnNNaQYDlENd",
        "outputId": "5693d4b4-6acd-4b00-c0ae-73a79f97e37e"
      },
      "execution_count": 4,
      "outputs": [
        {
          "output_type": "execute_result",
          "data": {
            "text/plain": [
              "5"
            ]
          },
          "metadata": {},
          "execution_count": 4
        }
      ]
    }
  ]
}