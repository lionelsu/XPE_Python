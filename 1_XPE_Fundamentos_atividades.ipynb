{
  "nbformat": 4,
  "nbformat_minor": 0,
  "metadata": {
    "colab": {
      "provenance": [],
      "authorship_tag": "ABX9TyNnWSHFV6UdvpH852w+FXFL",
      "include_colab_link": true
    },
    "kernelspec": {
      "name": "python3",
      "display_name": "Python 3"
    },
    "language_info": {
      "name": "python"
    }
  },
  "cells": [
    {
      "cell_type": "markdown",
      "metadata": {
        "id": "view-in-github",
        "colab_type": "text"
      },
      "source": [
        "<a href=\"https://colab.research.google.com/github/lionelsu/XPE_Python/blob/main/1_XPE_Fundamentos_atividades.ipynb\" target=\"_parent\"><img src=\"https://colab.research.google.com/assets/colab-badge.svg\" alt=\"Open In Colab\"/></a>"
      ]
    },
    {
      "cell_type": "code",
      "execution_count": null,
      "metadata": {
        "id": "Q8XBjFYA20q-"
      },
      "outputs": [],
      "source": [
        "#1. Execute e analise a saída do seguinte código no Google Colab1\n",
        "\n",
        "# declaração das variáveis\n",
        "inicio = 0\n",
        "fim = 100\n",
        "# verifica quais números são divisíveis por cinco, e exibe aqueles que são\n",
        "for numero in range(inicio, fim):\n",
        "    if numero % 5 == 0:\n",
        "        print(numero)"
      ]
    },
    {
      "cell_type": "code",
      "source": [
        "#2. Altere o código da atividade 1 para que ele exiba os números múltiplos de 2, 5 e 7 e que\n",
        "#estejam dentro do intervalo entre 100 e 500 (incluindo o 100 e o 500)\n",
        "\n",
        "# declaração das variáveis\n",
        "inicio = 100\n",
        "fim = 500\n",
        "\n",
        "for numero in range(inicio, fim):\n",
        "    if numero % 2 == 0 and numero % 5 == 0 and numero % 7 == 0:\n",
        "        print(numero)"
      ],
      "metadata": {
        "id": "2re981sJ7tk_"
      },
      "execution_count": null,
      "outputs": []
    },
    {
      "cell_type": "code",
      "source": [
        "#3. Altere o código da atividade 1, criando uma variável divisor e, em seguida, verifique quais os\n",
        "#números no intervalo entre 0 e 1000 (incluindo o 0 e excluindo o 1000) são múltiplos da\n",
        "#variável divisor.\n",
        "#• Por exemplo, se o valor de divisor for igual a 3, todos os números múltiplos de 3,\n",
        "#dentro do intervalo, deverão ser exibidos (0, 3, 6, 9, ..., 996, 999).\n",
        "\n",
        "# declaração das variáveis\n",
        "inicio = 0\n",
        "fim = 1000\n",
        "divisor = 10\n",
        "\n",
        "for numero in range(inicio, fim):\n",
        "    if numero % divisor == 0:\n",
        "        print(numero)"
      ],
      "metadata": {
        "id": "UUmLusLz8Dps"
      },
      "execution_count": null,
      "outputs": []
    },
    {
      "cell_type": "code",
      "source": [
        "#4. Crie um código declarando as seguintes variáveis do tipo string:\n",
        "# variáveis do tipo string\n",
        "nome = 'João da Silva'\n",
        "cidade = 'São Paulo'\n",
        "cpf = '123.456.789-00'\n",
        "\n",
        "#Transforme todos os caracteres das variáveis em maiúsculo;\n",
        "print(nome.upper())\n",
        "#Transforme todos os caracteres das variáveis em minúsculo;\n",
        "print(cidade.lower())\n",
        "#Exiba a posição do caractere ã, se presente, em cada uma das variáveis;\n",
        "print(nome.rfind('ã'), cidade.rfind('ã'))\n",
        "#Exiba o número de caracteres de cada variável;\n",
        "print(len(nome), len(cidade), len(cpf))\n",
        "#Remova os pontos (.) e o hífen (–) da variável cpf\n",
        "print(cpf.replace('.', '').replace('-', ''))"
      ],
      "metadata": {
        "id": "FQu2zxXEA9Z-"
      },
      "execution_count": null,
      "outputs": []
    },
    {
      "cell_type": "code",
      "source": [
        "#5. Crie um código que realize o somatório de todos os caracteres da seguinte string:\n",
        "numero = '127957'\n",
        "soma = 0\n",
        "\n",
        "for numeros in numero:\n",
        "    numeros = int(numeros)\n",
        "    soma = soma + numeros\n",
        "    print(soma)\n",
        "\n",
        "\n",
        "\n",
        "print((2 + 3) * 5 - 1)\n"
      ],
      "metadata": {
        "id": "Q45S41iKMr1v"
      },
      "execution_count": null,
      "outputs": []
    },
    {
      "cell_type": "markdown",
      "source": [],
      "metadata": {
        "id": "BQQzgn4U5LAq"
      }
    }
  ]
}