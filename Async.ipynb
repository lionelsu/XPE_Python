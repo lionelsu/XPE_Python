{
  "nbformat": 4,
  "nbformat_minor": 0,
  "metadata": {
    "colab": {
      "provenance": [],
      "authorship_tag": "ABX9TyPUkftsI1TNGzSR8f3+cjis",
      "include_colab_link": true
    },
    "kernelspec": {
      "name": "python3",
      "display_name": "Python 3"
    },
    "language_info": {
      "name": "python"
    }
  },
  "cells": [
    {
      "cell_type": "markdown",
      "metadata": {
        "id": "view-in-github",
        "colab_type": "text"
      },
      "source": [
        "<a href=\"https://colab.research.google.com/github/lionelsu/XPE_Python/blob/main/Async.ipynb\" target=\"_parent\"><img src=\"https://colab.research.google.com/assets/colab-badge.svg\" alt=\"Open In Colab\"/></a>"
      ]
    },
    {
      "cell_type": "code",
      "source": [
        "!pip install nest_asyncio\n",
        "import nest_asyncio"
      ],
      "metadata": {
        "colab": {
          "base_uri": "https://localhost:8080/"
        },
        "id": "-fIGgZJbjgOk",
        "outputId": "193480b0-fd8a-4419-bfd3-50a3d4b6f573"
      },
      "execution_count": 21,
      "outputs": [
        {
          "output_type": "stream",
          "name": "stdout",
          "text": [
            "Looking in indexes: https://pypi.org/simple, https://us-python.pkg.dev/colab-wheels/public/simple/\n",
            "Requirement already satisfied: nest_asyncio in /usr/local/lib/python3.8/dist-packages (1.5.6)\n"
          ]
        }
      ]
    },
    {
      "cell_type": "code",
      "execution_count": 22,
      "metadata": {
        "id": "B9wkntW8itiU"
      },
      "outputs": [],
      "source": [
        "nest_asyncio.apply()\n",
        "import asyncio\n",
        "from multiprocessing import Pool, cpu_count\n",
        "import concurrent.futures\n",
        "import sys\n",
        "import time\n",
        "from enum import Enum\n",
        "import aiohttp\n",
        "import requests"
      ]
    },
    {
      "cell_type": "code",
      "source": [
        "def get_ids_cervejarias():\n",
        "    r = requests.get('https://api.openbrewerydb.org/breweries')\n",
        "    if r.status_code == 200:\n",
        "        return [r['id'] for r in r.json()]"
      ],
      "metadata": {
        "id": "Fw0HoIuBjW-p"
      },
      "execution_count": 23,
      "outputs": []
    },
    {
      "cell_type": "code",
      "source": [
        "def get_cervejaria(id_c):\n",
        "    r = requests.get('https://api.openbrewerydb.org/breweries/{id_c}')\n",
        "    if r.status_code == 200:\n",
        "        print(r.json())"
      ],
      "metadata": {
        "id": "q3bXwRzGkWBH"
      },
      "execution_count": 24,
      "outputs": []
    },
    {
      "cell_type": "code",
      "source": [
        "async def get_cervejaria_async(id_c, session):\n",
        "    async with session.get(f'https://api.openbrewerydb.org/breweries/{id_c}') as response:\n",
        "        print(await response.json())"
      ],
      "metadata": {
        "id": "zuh0r1pqkmjt"
      },
      "execution_count": 25,
      "outputs": []
    },
    {
      "cell_type": "code",
      "source": [
        "async def processar_async(ids):\n",
        "    coros = []\n",
        "    async with aiohttp.ClientSession() as session:\n",
        "        for id_c in ids:\n",
        "            coros.append(get_cervejaria_async(id_c, session))\n",
        "\n",
        "        await asyncio.gather(*coros)"
      ],
      "metadata": {
        "id": "Zsc2G0cck7CF"
      },
      "execution_count": 26,
      "outputs": []
    },
    {
      "cell_type": "code",
      "source": [
        "async def get_cervejaria_async_manual(id_c):\n",
        "    loop = asyncio.get_running_loop()\n",
        "    return await loop.run_in_executor(Nome, get_cervejaria, id_c)"
      ],
      "metadata": {
        "id": "p9x1kQ5AlfSh"
      },
      "execution_count": 27,
      "outputs": []
    },
    {
      "cell_type": "code",
      "source": [
        "class TipoExecucao(Enum):\n",
        "    UM_PROCESSO = 1\n",
        "    VARIAS_THREADS = 2\n",
        "    ASYNCIO_COM_LIB_HTTP = 3"
      ],
      "metadata": {
        "id": "4yiC7YMomCmX"
      },
      "execution_count": 28,
      "outputs": []
    },
    {
      "cell_type": "code",
      "source": [
        "if __name__ == '__main__':\n",
        "    started = time.time()\n",
        "\n",
        "    tipo_execucao = TipoExecucao.VARIAS_THREADS\n",
        "    cores = cpu_count()\n",
        "\n",
        "    ids_cervejarias = get_ids_cervejarias()\n",
        "\n",
        "    if TipoExecucao.UM_PROCESSO == tipo_execucao:\n",
        "        for id_cervejaria in ids_cervejarias:\n",
        "            get_cervejaria(id_cervejaria)\n",
        "\n",
        "    elif TipoExecucao.VARIAS_THREADS == tipo_execucao:\n",
        "        with concurrent.futures.ThreadPoolExecutor(cores) as thp:\n",
        "            thp.map(get_cervejaria, ids_cervejarias)\n",
        "        \n",
        "    elif TipoExecucao.ASYNCIO_COM_LIB_HTTP == tipo_execucao:\n",
        "        event_loop = asyncio.get_event_loop()\n",
        "        tasks = []\n",
        "\n",
        "        event_loop.run_until_complete(processar_async(ids_cervejarias))\n",
        "    elif TipoExecucao.ASYNCIO_MANUAL == tipo_execucao:\n",
        "        event_loop = asyncio.get_event_loop()\n",
        "        tasks = []\n",
        "\n",
        "        for id_cervejaria in ids_cervejarias:\n",
        "            tasks.append(get_cervejaria_async_manual(id_cervejaria))\n",
        "\n",
        "        event_loop.run_until_complete(asyncio.wait(tasks))\n",
        "\n",
        "    elapsed = time.time()\n",
        "    print('Time taken :', elapsed - started)\n"
      ],
      "metadata": {
        "colab": {
          "base_uri": "https://localhost:8080/"
        },
        "id": "0JpQiowDmSLU",
        "outputId": "8a632931-cae8-45e2-9ee3-66b4771adccb"
      },
      "execution_count": 34,
      "outputs": [
        {
          "output_type": "stream",
          "name": "stdout",
          "text": [
            "Time taken : 0.8083250522613525\n"
          ]
        }
      ]
    }
  ]
}