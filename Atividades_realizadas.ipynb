{
  "nbformat": 4,
  "nbformat_minor": 0,
  "metadata": {
    "colab": {
      "provenance": [],
      "authorship_tag": "ABX9TyNwyzcqfuYsdhpywIgTxPdH",
      "include_colab_link": true
    },
    "kernelspec": {
      "name": "python3",
      "display_name": "Python 3"
    },
    "language_info": {
      "name": "python"
    }
  },
  "cells": [
    {
      "cell_type": "markdown",
      "metadata": {
        "id": "view-in-github",
        "colab_type": "text"
      },
      "source": [
        "<a href=\"https://colab.research.google.com/github/lionelsu/XPE_Python/blob/main/Atividades_realizadas.ipynb\" target=\"_parent\"><img src=\"https://colab.research.google.com/assets/colab-badge.svg\" alt=\"Open In Colab\"/></a>"
      ]
    },
    {
      "cell_type": "code",
      "execution_count": null,
      "metadata": {
        "id": "OgZfKHE8hmS1"
      },
      "outputs": [],
      "source": [
        "def fizzbuzz(n):\n",
        "    for i in range(1, n + 1):\n",
        "        if i % 3 == 0 and i % 5 == 0:\n",
        "            print(\"FizzBuzz\")\n",
        "        elif i % 3 == 0:\n",
        "            print(\"Fizz\")\n",
        "        elif i % 5 == 0:\n",
        "            print(\"Buzz\")\n",
        "        else:\n",
        "            print(i)\n",
        "\n",
        "fizzbuzz(15)"
      ]
    },
    {
      "cell_type": "code",
      "source": [
        "def fn(v: int):\n",
        "    \n",
        "    if v == 1 or v == 0:\n",
        "        return 1\n",
        "    elif v % 2 == 0:\n",
        "        return fn(v / 2) + 2\n",
        "    else:\n",
        "        return fn(v - 1) + 3\n",
        "\n",
        "teste = fn(7)\n",
        "print(teste)"
      ],
      "metadata": {
        "colab": {
          "base_uri": "https://localhost:8080/"
        },
        "id": "dcpCD02TpEZd",
        "outputId": "0c2a5e6f-5aeb-4ae9-d95f-4f971434f940"
      },
      "execution_count": null,
      "outputs": [
        {
          "output_type": "stream",
          "name": "stdout",
          "text": [
            "11\n"
          ]
        }
      ]
    },
    {
      "cell_type": "code",
      "source": [
        "def reverseString(text):\n",
        "    return text[::-1]\n",
        "\n",
        "texto = reverseString(\"naruto\")\n",
        "print(texto)"
      ],
      "metadata": {
        "colab": {
          "base_uri": "https://localhost:8080/"
        },
        "id": "0PH14Z_SuxRU",
        "outputId": "8e0475b4-7f8b-4cd0-f205-853b69acdb59"
      },
      "execution_count": null,
      "outputs": [
        {
          "output_type": "stream",
          "name": "stdout",
          "text": [
            "oturan\n"
          ]
        }
      ]
    },
    {
      "cell_type": "code",
      "source": [],
      "metadata": {
        "id": "nMKcFWwq5qhL"
      },
      "execution_count": null,
      "outputs": []
    }
  ]
}