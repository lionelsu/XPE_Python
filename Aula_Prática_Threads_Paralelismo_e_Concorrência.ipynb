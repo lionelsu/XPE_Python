{
  "nbformat": 4,
  "nbformat_minor": 0,
  "metadata": {
    "colab": {
      "provenance": [],
      "authorship_tag": "ABX9TyOy22iWx81KfsHWWAresZvd",
      "include_colab_link": true
    },
    "kernelspec": {
      "name": "python3",
      "display_name": "Python 3"
    },
    "language_info": {
      "name": "python"
    }
  },
  "cells": [
    {
      "cell_type": "markdown",
      "metadata": {
        "id": "view-in-github",
        "colab_type": "text"
      },
      "source": [
        "<a href=\"https://colab.research.google.com/github/lionelsu/XPE_Python/blob/main/Aula_Pr%C3%A1tica_Threads_Paralelismo_e_Concorr%C3%AAncia.ipynb\" target=\"_parent\"><img src=\"https://colab.research.google.com/assets/colab-badge.svg\" alt=\"Open In Colab\"/></a>"
      ]
    },
    {
      "cell_type": "code",
      "execution_count": 3,
      "metadata": {
        "colab": {
          "base_uri": "https://localhost:8080/"
        },
        "id": "1zY6Lqcmq5VP",
        "outputId": "44e4a511-3c40-4f04-9df4-047319f53818"
      },
      "outputs": [
        {
          "output_type": "stream",
          "name": "stdout",
          "text": [
            "Olá\n",
            "0\n",
            "1\n",
            "2\n",
            "3\n",
            "4\n",
            "5\n",
            "6\n",
            "7\n",
            "8\n",
            "9\n",
            "IGTI\n"
          ]
        }
      ],
      "source": [
        "from time import sleep\n",
        "print('Olá')\n",
        "for i in range(10):\n",
        "    print(i)\n",
        "    sleep(.5)\n",
        "print('IGTI')"
      ]
    },
    {
      "cell_type": "code",
      "source": [
        "from threading import Thread\n",
        "\n",
        "class IGThread(Thread):\n",
        "    def __init__(self, texto, tempo):\n",
        "        self.texto = texto\n",
        "        self.tempo = tempo\n",
        "\n",
        "        super().__init__()\n",
        "    \n",
        "    def run(self):\n",
        "        sleep(self.tempo)\n",
        "        print(self.texto)\n",
        "\n",
        "t1 = IGThread('IGTI Thread 1', 2)\n",
        "t1.start()\n",
        "\n",
        "t2 = IGThread('IGTI Thread 2', 5)\n",
        "t2.start()\n",
        "\n",
        "t3 = IGThread('IGTI Thread 3', 7)\n",
        "t3.start()\n",
        "\n",
        "t4 = IGThread('IGTI Thread 4', 10)\n",
        "t4.start()\n",
        "\n",
        "for i in range(20):\n",
        "    print(i)\n",
        "    sleep(1)"
      ],
      "metadata": {
        "colab": {
          "base_uri": "https://localhost:8080/"
        },
        "id": "shU-P9lZvc01",
        "outputId": "033dc3ce-8322-4d1c-b7e8-3f61508d6a79"
      },
      "execution_count": 5,
      "outputs": [
        {
          "output_type": "stream",
          "name": "stdout",
          "text": [
            "0\n",
            "1\n",
            "IGTI Thread 1\n",
            "2\n",
            "3\n",
            "4\n",
            "IGTI Thread 2\n",
            "5\n",
            "6\n",
            "IGTI Thread 3\n",
            "7\n",
            "8\n",
            "9\n",
            "IGTI Thread 4\n",
            "10\n",
            "11\n",
            "12\n",
            "13\n",
            "14\n",
            "15\n",
            "16\n",
            "17\n",
            "18\n",
            "19\n"
          ]
        }
      ]
    }
  ]
}