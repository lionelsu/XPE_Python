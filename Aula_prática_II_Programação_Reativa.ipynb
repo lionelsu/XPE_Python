{
  "nbformat": 4,
  "nbformat_minor": 0,
  "metadata": {
    "colab": {
      "provenance": [],
      "authorship_tag": "ABX9TyMf1QUjQeMs03vz7/M12cIM",
      "include_colab_link": true
    },
    "kernelspec": {
      "name": "python3",
      "display_name": "Python 3"
    },
    "language_info": {
      "name": "python"
    }
  },
  "cells": [
    {
      "cell_type": "markdown",
      "metadata": {
        "id": "view-in-github",
        "colab_type": "text"
      },
      "source": [
        "<a href=\"https://colab.research.google.com/github/lionelsu/XPE_Python/blob/main/Aula_pr%C3%A1tica_II_Programa%C3%A7%C3%A3o_Reativa.ipynb\" target=\"_parent\"><img src=\"https://colab.research.google.com/assets/colab-badge.svg\" alt=\"Open In Colab\"/></a>"
      ]
    },
    {
      "cell_type": "code",
      "execution_count": 1,
      "metadata": {
        "colab": {
          "base_uri": "https://localhost:8080/"
        },
        "id": "dCKSbTti1zIB",
        "outputId": "19970e30-ec0a-4b07-d1d4-e8997ec56d82"
      },
      "outputs": [
        {
          "output_type": "stream",
          "name": "stdout",
          "text": [
            "Looking in indexes: https://pypi.org/simple, https://us-python.pkg.dev/colab-wheels/public/simple/\n",
            "Collecting rx\n",
            "  Downloading Rx-3.2.0-py3-none-any.whl (199 kB)\n",
            "\u001b[K     |████████████████████████████████| 199 kB 5.1 MB/s \n",
            "\u001b[?25hInstalling collected packages: rx\n",
            "Successfully installed rx-3.2.0\n"
          ]
        }
      ],
      "source": [
        "!pip install rx\n",
        "from rx import create, disposable\n",
        "import rx"
      ]
    },
    {
      "cell_type": "code",
      "source": [
        "def push_five_srings(observer, scheduler):\n",
        "    observer.on_next('Alfa')\n",
        "    observer.on_next('Beta')\n",
        "    observer.on_next('Gama')\n",
        "    observer.on_next('Delta')\n",
        "    observer.on_next('Epsilon')\n",
        "    observer.on_completed()\n",
        "\n",
        "class PrintObserver(disposable.Disposable):\n",
        "    def on_next(self, value):\n",
        "        print('Recebido {0}'.format(value))\n",
        "\n",
        "    def on_completed(self):\n",
        "        print('Fim!')\n",
        "\n",
        "    def on_error(self, error):\n",
        "        print('Erro identificado: {0}'.format(error))\n",
        "\n",
        "source = create(push_five_srings)\n",
        "\n",
        "source.subscribe(PrintObserver())"
      ],
      "metadata": {
        "colab": {
          "base_uri": "https://localhost:8080/"
        },
        "id": "4sVw2CVY2k_u",
        "outputId": "e2681539-f012-4917-c62f-067ce19c868d"
      },
      "execution_count": 2,
      "outputs": [
        {
          "output_type": "stream",
          "name": "stdout",
          "text": [
            "Recebido Alfa\n",
            "Recebido Beta\n",
            "Recebido Gama\n",
            "Recebido Delta\n",
            "Recebido Epsilon\n",
            "Fim!\n"
          ]
        },
        {
          "output_type": "execute_result",
          "data": {
            "text/plain": [
              "<rx.disposable.disposable.Disposable at 0x7f6933a38670>"
            ]
          },
          "metadata": {},
          "execution_count": 2
        }
      ]
    },
    {
      "cell_type": "code",
      "source": [
        "from rx import of\n",
        "\n",
        "source = of('Alfa', 'Beta', 'Delta', 'Epsilon')\n",
        "source.subscribe(\n",
        "    on_next= lambda i: print('Recebido {}'.format(i)),\n",
        "    on_completed=lambda: print('Finalizado'),\n",
        "    on_error=lambda e:print('Erro identificado: {0}'.format(e))\n",
        ")"
      ],
      "metadata": {
        "colab": {
          "base_uri": "https://localhost:8080/"
        },
        "id": "4UeOJOfC3mtG",
        "outputId": "29c97c1b-20e4-4d8b-e5b1-7814871b4db4"
      },
      "execution_count": 4,
      "outputs": [
        {
          "output_type": "stream",
          "name": "stdout",
          "text": [
            "Recebido Alfa\n",
            "Recebido Beta\n",
            "Recebido Delta\n",
            "Recebido Epsilon\n",
            "Finalizado\n"
          ]
        },
        {
          "output_type": "execute_result",
          "data": {
            "text/plain": [
              "<rx.disposable.disposable.Disposable at 0x7f6933b2d220>"
            ]
          },
          "metadata": {},
          "execution_count": 4
        }
      ]
    },
    {
      "cell_type": "code",
      "source": [
        "from rx import disposable, create\n",
        "\n",
        "stocks = [\n",
        "    {'TCKR' :'APPL', 'PRICE': 200},\n",
        "    {'TCKR' :'GOOG', 'PRICE': 90},\n",
        "    {'TCKR' :'TSLA', 'PRICE': 120},\n",
        "    {'TCKR' :'MSFT', 'PRICE': 150},\n",
        "    {'TCKR' :'INTL', 'PRICE': 70}\n",
        "]\n",
        "\n",
        "def buy_stock_events(observer, scheduler):\n",
        "    for stock in stocks:\n",
        "        if(stock['PRICE'] > 100):\n",
        "            observer.on_next(stock['TCKR'])\n",
        "    observer.on_completed()\n",
        "\n",
        "class StockObserver(disposable.Disposable):\n",
        "    def on_next(self, value):\n",
        "        print('Instruções recebidas para comprar ação {0}'.format(value))\n",
        "\n",
        "    def on_completed(self):\n",
        "        print('Todas as ordens de compras foram finalizadas')\n",
        "\n",
        "    def on_error(self, error):\n",
        "        print('Erro identificado: {0}'.format(error))\n",
        "\n",
        "source = create(buy_stock_events)\n",
        "\n",
        "source.subscribe(StockObserver())"
      ],
      "metadata": {
        "colab": {
          "base_uri": "https://localhost:8080/"
        },
        "id": "f_Wu2Mqx5d2-",
        "outputId": "e53e859f-060a-4885-a82d-1c191e06ee8c"
      },
      "execution_count": 5,
      "outputs": [
        {
          "output_type": "stream",
          "name": "stdout",
          "text": [
            "Instruções recebidas para comprar ação APPL\n",
            "Instruções recebidas para comprar ação TSLA\n",
            "Instruções recebidas para comprar ação MSFT\n",
            "Todas as ordens de compras foram finalizadas\n"
          ]
        },
        {
          "output_type": "execute_result",
          "data": {
            "text/plain": [
              "<rx.disposable.disposable.Disposable at 0x7f692a324910>"
            ]
          },
          "metadata": {},
          "execution_count": 5
        }
      ]
    },
    {
      "cell_type": "code",
      "source": [
        "from rx import disposable, create\n",
        "\n",
        "stocks = [\n",
        "    {'TCKR' :'APPL', 'PRICE': 200},\n",
        "    {'TCKR' :'GOOG', 'PRICE': 90},\n",
        "    {'TCKR' :'TSLA', 'PRICE': 120},\n",
        "    {'TCKR' :'MSFT', 'PRICE': 150},\n",
        "    {'TCKR' :'INTL', 'PRICE': 70}\n",
        "]\n",
        "\n",
        "def buy_stock_events(observer, scheduler):\n",
        "    for stock in stocks:\n",
        "        if(stock['PRICE'] > 100):\n",
        "            observer.on_next(stock['TCKR'])\n",
        "    observer.on_completed()\n",
        "\n",
        "source = create(buy_stock_events)\n",
        "source.subscribe(on_next = lambda value: print('Instruções recebidas para comprar ação {0}'.format(value)),\n",
        "                 on_completed=lambda: print('Todas as ordens de compras foram finalizadas'),\n",
        "                 on_error=lambda e: print(e))"
      ],
      "metadata": {
        "colab": {
          "base_uri": "https://localhost:8080/"
        },
        "id": "alH21qyP7glB",
        "outputId": "69843f20-9d18-45d4-a613-8630e1b57fa4"
      },
      "execution_count": 6,
      "outputs": [
        {
          "output_type": "stream",
          "name": "stdout",
          "text": [
            "Instruções recebidas para comprar ação APPL\n",
            "Instruções recebidas para comprar ação TSLA\n",
            "Instruções recebidas para comprar ação MSFT\n",
            "Todas as ordens de compras foram finalizadas\n"
          ]
        },
        {
          "output_type": "execute_result",
          "data": {
            "text/plain": [
              "<rx.disposable.disposable.Disposable at 0x7f692a3222e0>"
            ]
          },
          "metadata": {},
          "execution_count": 6
        }
      ]
    },
    {
      "cell_type": "code",
      "source": [
        "from rx import of, operators as op\n",
        "\n",
        "of('Alfa', 'Beta', 'Delta', 'Epsilon').pipe(\n",
        "    op.map(lambda s: len(s)),\n",
        "    op.filter(lambda i: i >= 5)\n",
        ").subscribe(lambda value: print('Recebido {0}'.format(value)))"
      ],
      "metadata": {
        "colab": {
          "base_uri": "https://localhost:8080/"
        },
        "id": "ULmQsV2C8aBq",
        "outputId": "c703f059-f1b2-469e-ab37-38a97af4e120"
      },
      "execution_count": 7,
      "outputs": [
        {
          "output_type": "stream",
          "name": "stdout",
          "text": [
            "Recebido 5\n",
            "Recebido 7\n"
          ]
        },
        {
          "output_type": "execute_result",
          "data": {
            "text/plain": [
              "<rx.disposable.disposable.Disposable at 0x7f692a2f7730>"
            ]
          },
          "metadata": {},
          "execution_count": 7
        }
      ]
    },
    {
      "cell_type": "code",
      "source": [
        "from rx import of, operators as op\n",
        "\n",
        "source = of('Alfa', 'Beta', 'Gamma', 'Delta', 'Epsilon')\n",
        "\n",
        "compressed = source.pipe(\n",
        "    op.map(lambda s: len(s)),\n",
        "    op.filter(lambda i: i >= 5)\n",
        ")\n",
        "compressed.subscribe(lambda value: print('Recebido {0}'.format(value)))\n"
      ],
      "metadata": {
        "colab": {
          "base_uri": "https://localhost:8080/"
        },
        "id": "cWDCx0nq9Kk4",
        "outputId": "d58ce0b8-7113-4bf4-e926-ad854477d630"
      },
      "execution_count": 9,
      "outputs": [
        {
          "output_type": "stream",
          "name": "stdout",
          "text": [
            "Recebido 5\n",
            "Recebido 5\n",
            "Recebido 7\n"
          ]
        },
        {
          "output_type": "execute_result",
          "data": {
            "text/plain": [
              "<rx.disposable.disposable.Disposable at 0x7f692a287520>"
            ]
          },
          "metadata": {},
          "execution_count": 9
        }
      ]
    },
    {
      "cell_type": "code",
      "source": [
        "import rx\n",
        "from rx import operators as ops\n",
        "\n",
        "def lenght_more_than_5():\n",
        "    return rx.pipe(\n",
        "        op.map(lambda s: len(s)),\n",
        "        op.filter(lambda i: i >= 5)\n",
        "    )\n",
        "\n",
        "rx.of('alpha', 'beta', 'delta', 'gamma', 'epslon').pipe(\n",
        "    lenght_more_than_5()\n",
        ").subscribe(lambda value: print('Recebido {0}'.format(value)))"
      ],
      "metadata": {
        "colab": {
          "base_uri": "https://localhost:8080/"
        },
        "id": "gXDSmrmn95T8",
        "outputId": "9999584a-b100-4886-8329-b5fa16b661bf"
      },
      "execution_count": 10,
      "outputs": [
        {
          "output_type": "stream",
          "name": "stdout",
          "text": [
            "Recebido 5\n",
            "Recebido 5\n",
            "Recebido 5\n",
            "Recebido 6\n"
          ]
        },
        {
          "output_type": "execute_result",
          "data": {
            "text/plain": [
              "<rx.disposable.disposable.Disposable at 0x7f692a26d6d0>"
            ]
          },
          "metadata": {},
          "execution_count": 10
        }
      ]
    }
  ]
}