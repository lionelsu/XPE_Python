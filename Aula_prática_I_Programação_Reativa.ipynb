{
  "nbformat": 4,
  "nbformat_minor": 0,
  "metadata": {
    "colab": {
      "provenance": [],
      "authorship_tag": "ABX9TyN1tqNj7PjxR0KVvmwor52F",
      "include_colab_link": true
    },
    "kernelspec": {
      "name": "python3",
      "display_name": "Python 3"
    },
    "language_info": {
      "name": "python"
    }
  },
  "cells": [
    {
      "cell_type": "markdown",
      "metadata": {
        "id": "view-in-github",
        "colab_type": "text"
      },
      "source": [
        "<a href=\"https://colab.research.google.com/github/lionelsu/XPE_Python/blob/main/Aula_pr%C3%A1tica_I_Programa%C3%A7%C3%A3o_Reativa.ipynb\" target=\"_parent\"><img src=\"https://colab.research.google.com/assets/colab-badge.svg\" alt=\"Open In Colab\"/></a>"
      ]
    },
    {
      "cell_type": "code",
      "execution_count": 2,
      "metadata": {
        "colab": {
          "base_uri": "https://localhost:8080/"
        },
        "id": "7vEC6hYPxyZU",
        "outputId": "a3ab6f2a-5c42-4b3e-ae8e-e568add4877d"
      },
      "outputs": [
        {
          "output_type": "stream",
          "name": "stdout",
          "text": [
            "Looking in indexes: https://pypi.org/simple, https://us-python.pkg.dev/colab-wheels/public/simple/\n",
            "Collecting rx\n",
            "  Downloading Rx-3.2.0-py3-none-any.whl (199 kB)\n",
            "\u001b[K     |████████████████████████████████| 199 kB 7.0 MB/s \n",
            "\u001b[?25hInstalling collected packages: rx\n",
            "Successfully installed rx-3.2.0\n"
          ]
        }
      ],
      "source": [
        "!pip install rx\n",
        "import rx\n",
        "import rx.operators as ops"
      ]
    },
    {
      "cell_type": "code",
      "source": [
        "\n",
        "source = rx.from_iterable([1,2,3,4,5])\n",
        "\n",
        "disposable = source.pipe(\n",
        "    ops.map(lambda i:i-1),\n",
        "    ops.filter(lambda i:i%2 == 0),\n",
        ").subscribe(\n",
        "    on_next=lambda i: print('on_next: {}'.format(i)),\n",
        "    on_completed= lambda: print('on_completed'),\n",
        "    on_error=lambda e: print('on_error: {}'.format(e))\n",
        ")\n",
        "\n",
        "disposable.dispose()\n",
        "print('Finalizado')"
      ],
      "metadata": {
        "colab": {
          "base_uri": "https://localhost:8080/"
        },
        "id": "mzKW8OE40TEO",
        "outputId": "f96be25f-3ace-417a-ce05-aa1cc6ecaa28"
      },
      "execution_count": 3,
      "outputs": [
        {
          "output_type": "stream",
          "name": "stdout",
          "text": [
            "on_next: 0\n",
            "on_next: 2\n",
            "on_next: 4\n",
            "on_completed\n",
            "Finalizado\n"
          ]
        }
      ]
    }
  ]
}