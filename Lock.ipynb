{
  "nbformat": 4,
  "nbformat_minor": 0,
  "metadata": {
    "colab": {
      "provenance": [],
      "authorship_tag": "ABX9TyMocF5K9i39Uvo+1QUCia9d",
      "include_colab_link": true
    },
    "kernelspec": {
      "name": "python3",
      "display_name": "Python 3"
    },
    "language_info": {
      "name": "python"
    }
  },
  "cells": [
    {
      "cell_type": "markdown",
      "metadata": {
        "id": "view-in-github",
        "colab_type": "text"
      },
      "source": [
        "<a href=\"https://colab.research.google.com/github/lionelsu/XPE_Python/blob/main/Lock.ipynb\" target=\"_parent\"><img src=\"https://colab.research.google.com/assets/colab-badge.svg\" alt=\"Open In Colab\"/></a>"
      ]
    },
    {
      "cell_type": "code",
      "source": [
        "from time import sleep\n",
        "from threading import Thread, Lock"
      ],
      "metadata": {
        "id": "pFSS1Wl1fwaU"
      },
      "execution_count": 17,
      "outputs": []
    },
    {
      "cell_type": "code",
      "execution_count": 19,
      "metadata": {
        "id": "PN3XhbKJYLNU"
      },
      "outputs": [],
      "source": [
        "class Paes:\n",
        "    def __init__(self, estoque):\n",
        "        self.estoque = estoque\n",
        "        self.lock = Lock()\n",
        "    \n",
        "    def comprar(self, quantidade):\n",
        "        self.lock.acquire()\n",
        "        if self.estoque < quantidade:\n",
        "            print(f'Não temos pães suficientes.')\n",
        "            self.lock.release()\n",
        "            return\n",
        "        sleep(1)\n",
        "\n",
        "        self.estoque -= quantidade\n",
        "        print(f'Você comprou {quantidade} pães.\\\n",
        "                Ainda temos {self.estoque} em estoque')\n",
        "        self.lock.release()\n",
        "if __name__ == '__main__':\n",
        "    paes = Paes(10)\n",
        "    for i in range(1, 20):\n",
        "        t = Thread(target=paes.comprar, args=(i,))\n",
        "        t.start()"
      ]
    }
  ]
}